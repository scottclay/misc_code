{
 "cells": [
  {
   "cell_type": "code",
   "execution_count": 1,
   "metadata": {},
   "outputs": [
    {
     "name": "stdout",
     "output_type": "stream",
     "text": [
      "+-----+\n",
      "|hello|\n",
      "+-----+\n",
      "|spark|\n",
      "+-----+\n",
      "\n"
     ]
    }
   ],
   "source": [
    "import findspark\n",
    "findspark.init()\n",
    "import pyspark\n",
    "from pyspark.sql import SparkSession\n",
    "spark = SparkSession.builder.getOrCreate()\n",
    "df = spark.sql('''select 'spark' as hello''')\n",
    "df.show()"
   ]
  },
  {
   "cell_type": "markdown",
   "metadata": {},
   "source": [
    "### Pivot dataframe"
   ]
  },
  {
   "cell_type": "code",
   "execution_count": null,
   "metadata": {},
   "outputs": [],
   "source": [
    "_p = (df\n",
    "      .withColumn('value', F.col('value').cast(T.DoubleType()))\n",
    "      .withColumn('feature', F.translate('feature', '.', '_'))\n",
    "      .groupBy('cust_id','dt')\n",
    "      .pivot('feature')\n",
    "      .agg(F.expr(\"first(value)\"))\n",
    "     )\n",
    "_p.printSchema()"
   ]
  },
  {
   "cell_type": "code",
   "execution_count": null,
   "metadata": {},
   "outputs": [],
   "source": []
  },
  {
   "cell_type": "code",
   "execution_count": null,
   "metadata": {},
   "outputs": [],
   "source": []
  },
  {
   "cell_type": "code",
   "execution_count": null,
   "metadata": {},
   "outputs": [],
   "source": [
    "df3 = (df2\n",
    "      .select(['dt',\n",
    "               'cust_id',\n",
    "               'product',\n",
    "               'jrnl_id',\n",
    "               'jrnl_cr_datetime_ux',\n",
    "               'lag_jrnl_cr_datetime_ux'\n",
    "              ])\n",
    "      .withColumn('session_start_flag', \n",
    "                   F.when(df2.lag_jrnl_cr_datetime_ux.isNull(), 1)\n",
    "                   .when(df2.jrnl_cr_datetime_ux-df2.lag_jrnl_cr_datetime_ux>900, 1)\n",
    "                   .otherwise(0))\n",
    "      .withColumn('session_no', \n",
    "                  F.sum(F.col('session_start_flag'))\n",
    "                    .over(Window.partitionBy('cust_id','dt')\n",
    "                                .orderBy('jrnl_cr_datetime_ux','jrnl_id')\n",
    "                                .rowsBetween(Window.unboundedPreceding, Window.currentRow))\n",
    "                                )\n",
    "      .cache()\n",
    "      )\n",
    "\n",
    "\n"
   ]
  },
  {
   "cell_type": "code",
   "execution_count": null,
   "metadata": {},
   "outputs": [],
   "source": []
  },
  {
   "cell_type": "code",
   "execution_count": null,
   "metadata": {},
   "outputs": [],
   "source": []
  }
 ],
 "metadata": {
  "kernelspec": {
   "display_name": "Python 3",
   "language": "python",
   "name": "python3"
  },
  "language_info": {
   "codemirror_mode": {
    "name": "ipython",
    "version": 3
   },
   "file_extension": ".py",
   "mimetype": "text/x-python",
   "name": "python",
   "nbconvert_exporter": "python",
   "pygments_lexer": "ipython3",
   "version": "3.6.5"
  }
 },
 "nbformat": 4,
 "nbformat_minor": 2
}
