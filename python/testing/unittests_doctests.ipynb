{
 "cells": [
  {
   "cell_type": "markdown",
   "metadata": {},
   "source": [
    "# Testing"
   ]
  },
  {
   "cell_type": "markdown",
   "metadata": {},
   "source": [
    "## doctests \n",
    "\n",
    "Each >>> is run as if its a line in a python shell, and counts as a test.  \n",
    "The next line, if not >>>, if the expected output of the previous line. If anything doesn't match exactly, the test fails. "
   ]
  },
  {
   "cell_type": "code",
   "execution_count": 1,
   "metadata": {},
   "outputs": [],
   "source": [
    "def multiply(a, b):\n",
    "    \"\"\"\n",
    "    >>> multiply(4, 3)\n",
    "    12\n",
    "    >>> multiply('a', 3)\n",
    "    'aaa'\n",
    "    \"\"\"\n",
    "    return a * b"
   ]
  },
  {
   "cell_type": "code",
   "execution_count": 2,
   "metadata": {},
   "outputs": [],
   "source": [
    "def add(a, b):\n",
    "    \"\"\"\n",
    "    >>> add(4, 3)\n",
    "    7\n",
    "    >>> add('a', 'b')\n",
    "    'ab'\n",
    "    \"\"\"\n",
    "    return a + b"
   ]
  },
  {
   "cell_type": "code",
   "execution_count": 3,
   "metadata": {},
   "outputs": [],
   "source": [
    "import doctest"
   ]
  },
  {
   "cell_type": "markdown",
   "metadata": {},
   "source": [
    "To run all doctests in a jupyter notebook:"
   ]
  },
  {
   "cell_type": "code",
   "execution_count": 4,
   "metadata": {},
   "outputs": [
    {
     "data": {
      "text/plain": [
       "TestResults(failed=0, attempted=4)"
      ]
     },
     "execution_count": 4,
     "metadata": {},
     "output_type": "execute_result"
    }
   ],
   "source": [
    "doctest.testmod()"
   ]
  },
  {
   "cell_type": "markdown",
   "metadata": {},
   "source": [
    "To run a doctest on a specific function in a jupyter notebook:"
   ]
  },
  {
   "cell_type": "code",
   "execution_count": 5,
   "metadata": {},
   "outputs": [],
   "source": [
    "doctest.run_docstring_examples(multiply, globals())"
   ]
  },
  {
   "cell_type": "code",
   "execution_count": 6,
   "metadata": {},
   "outputs": [],
   "source": [
    "doctest.run_docstring_examples(add, globals())"
   ]
  },
  {
   "cell_type": "markdown",
   "metadata": {},
   "source": [
    "To run doctests in terminal:\n",
    "\n",
    "python -m doctest file  \n",
    "python -m doctest - v file\n",
    "   \n"
   ]
  },
  {
   "cell_type": "markdown",
   "metadata": {},
   "source": [
    "doctests can also be included in seperate files, see:\n",
    "http://pythontesting.net/framework/doctest/doctest-introduction/"
   ]
  },
  {
   "cell_type": "code",
   "execution_count": null,
   "metadata": {},
   "outputs": [],
   "source": []
  },
  {
   "cell_type": "markdown",
   "metadata": {},
   "source": [
    "## Unit tests\n",
    "\n",
    "A standard unit test workflow looks like:\n",
    "1. Define a class derived from unittest.TestCase\n",
    "2. Then you fill it with functions that start 'test_'\n",
    "3. You run the tests by placing unittest.main() in your file, usually at the bottom\n",
    "\n",
    "Also see: http://pythontesting.net/framework/unittest/unittest-introduction/"
   ]
  },
  {
   "cell_type": "code",
   "execution_count": 7,
   "metadata": {},
   "outputs": [],
   "source": [
    "def multiply(a, b):\n",
    "    return a * b"
   ]
  },
  {
   "cell_type": "code",
   "execution_count": 8,
   "metadata": {},
   "outputs": [],
   "source": [
    "def add(a, b):\n",
    "    return a + b "
   ]
  },
  {
   "cell_type": "code",
   "execution_count": 9,
   "metadata": {},
   "outputs": [],
   "source": [
    "import unittest"
   ]
  },
  {
   "cell_type": "code",
   "execution_count": 10,
   "metadata": {},
   "outputs": [],
   "source": [
    "class Test_Multiply(unittest.TestCase):\n",
    "    def setUp(self):\n",
    "        pass\n",
    "    \n",
    "    def test_numbers_3_4(self):\n",
    "        self.assertEqual(multiply(3,4), 12)\n",
    "        \n",
    "    def test_strings_a_3(self):\n",
    "        self.assertEqual(multiply('a',3), 'aaa')        \n",
    "        \n",
    "    "
   ]
  },
  {
   "cell_type": "code",
   "execution_count": 11,
   "metadata": {},
   "outputs": [],
   "source": [
    "class Test_Addition(unittest.TestCase):\n",
    "    def setUp(self):\n",
    "        pass\n",
    "    \n",
    "    def test_numbers_3_4(self):\n",
    "        self.assertEqual(add(3,4), 7)\n",
    "        \n",
    "    def test_strings_a_b(self):\n",
    "        self.assertEqual(add('a','b'), 'ab')      "
   ]
  },
  {
   "cell_type": "code",
   "execution_count": null,
   "metadata": {},
   "outputs": [],
   "source": []
  },
  {
   "cell_type": "code",
   "execution_count": 12,
   "metadata": {},
   "outputs": [
    {
     "name": "stderr",
     "output_type": "stream",
     "text": [
      "....\n",
      "----------------------------------------------------------------------\n",
      "Ran 4 tests in 0.013s\n",
      "\n",
      "OK\n"
     ]
    }
   ],
   "source": [
    "if __name__ == '__main__':\n",
    "    unittest.main(argv=['first-arg-is-ignored'], exit=False) #jupyter\n",
    "    #unittest.main() #outside jupyter"
   ]
  },
  {
   "cell_type": "code",
   "execution_count": null,
   "metadata": {},
   "outputs": [],
   "source": []
  },
  {
   "cell_type": "code",
   "execution_count": 13,
   "metadata": {},
   "outputs": [],
   "source": [
    "class Test_Multiply(unittest.TestCase):\n",
    "    def setUp(self):\n",
    "        pass\n",
    "    \n",
    "    def test_numbers_3_4(self):\n",
    "        self.assertEqual(multiply(3,3), 12)\n",
    "        \n",
    "    def test_strings_a_3(self):\n",
    "        self.assertEqual(multiply('a',3), 'aab')        \n",
    "        \n",
    "    "
   ]
  },
  {
   "cell_type": "code",
   "execution_count": null,
   "metadata": {},
   "outputs": [],
   "source": []
  },
  {
   "cell_type": "code",
   "execution_count": 14,
   "metadata": {
    "scrolled": false
   },
   "outputs": [
    {
     "name": "stderr",
     "output_type": "stream",
     "text": [
      "..FF\n",
      "======================================================================\n",
      "FAIL: test_numbers_3_4 (__main__.Test_Multiply)\n",
      "----------------------------------------------------------------------\n",
      "Traceback (most recent call last):\n",
      "  File \"<ipython-input-13-7891122a56ee>\", line 6, in test_numbers_3_4\n",
      "    self.assertEqual(multiply(3,3), 12)\n",
      "AssertionError: 9 != 12\n",
      "\n",
      "======================================================================\n",
      "FAIL: test_strings_a_3 (__main__.Test_Multiply)\n",
      "----------------------------------------------------------------------\n",
      "Traceback (most recent call last):\n",
      "  File \"<ipython-input-13-7891122a56ee>\", line 9, in test_strings_a_3\n",
      "    self.assertEqual(multiply('a',3), 'aab')\n",
      "AssertionError: 'aaa' != 'aab'\n",
      "- aaa\n",
      "?   ^\n",
      "+ aab\n",
      "?   ^\n",
      "\n",
      "\n",
      "----------------------------------------------------------------------\n",
      "Ran 4 tests in 0.004s\n",
      "\n",
      "FAILED (failures=2)\n"
     ]
    }
   ],
   "source": [
    "if __name__ == '__main__':\n",
    "    unittest.main(argv=['first-arg-is-ignored'], exit=False) #jupyter\n",
    "    #unittest.main() #outside jupyter"
   ]
  },
  {
   "cell_type": "code",
   "execution_count": null,
   "metadata": {},
   "outputs": [],
   "source": []
  }
 ],
 "metadata": {
  "kernelspec": {
   "display_name": "Python 3",
   "language": "python",
   "name": "python3"
  },
  "language_info": {
   "codemirror_mode": {
    "name": "ipython",
    "version": 3
   },
   "file_extension": ".py",
   "mimetype": "text/x-python",
   "name": "python",
   "nbconvert_exporter": "python",
   "pygments_lexer": "ipython3",
   "version": "3.6.5"
  }
 },
 "nbformat": 4,
 "nbformat_minor": 2
}
