{
 "cells": [
  {
   "cell_type": "code",
   "execution_count": 1,
   "metadata": {},
   "outputs": [
    {
     "data": {
      "image/png": "[encoded data removed]",
      "text/plain": [
       "<Figure size 432x288 with 1 Axes>"
      ]
     },
     "metadata": {},
     "output_type": "display_data"
    }
   ],
   "source": [
    "\n",
    "%matplotlib inline\n",
    "import seaborn\n",
    "\n",
    "seaborn.boxplot(data=[[94603, 113524, 132444, 151365, 170285],[94603, 113524, 132444, 151365, 180285]])\n",
    "\n",
    "plot.show()"
   ]
  },
  {
   "cell_type": "code",
   "execution_count": 2,
   "metadata": {},
   "outputs": [],
   "source": [
    "#Minimum value = lower whisker\n",
    "#1st Quartile = low end of box\n",
    "#Median value = line\n",
    "#3rd quartile = high end up box\n",
    "#Max value = top whisker"
   ]
  },
  {
   "cell_type": "code",
   "execution_count": null,
   "metadata": {},
   "outputs": [],
   "source": []
  },
  {
   "cell_type": "code",
   "execution_count": 21,
   "metadata": {},
   "outputs": [],
   "source": [
    "import numpy as np\n",
    "import matplotlib.cbook as cbook\n",
    "from matplotlib import pyplot as plt\n",
    "\n",
    "\n",
    "# fake data\n",
    "np.random.seed(19680801)\n",
    "data = np.random.lognormal(size=(37, 4), mean=1.5, sigma=1.75)\n",
    "labels = list('ABCD')\n",
    "\n",
    "# compute the boxplot stats\n",
    "stats = cbook.boxplot_stats(data, labels=labels, bootstrap=10000)"
   ]
  },
  {
   "cell_type": "code",
   "execution_count": 14,
   "metadata": {},
   "outputs": [
    {
     "data": {
      "text/plain": [
       "[{'label': 'A',\n",
       "  'mean': 13.608303993175577,\n",
       "  'iqr': 16.62219300478486,\n",
       "  'cilo': 1.411047419553718,\n",
       "  'cihi': 14.255678889631325,\n",
       "  'whishi': 30.32084269371291,\n",
       "  'whislo': 0.019001878741670253,\n",
       "  'fliers': array([44.43404261, 59.58829213, 77.10427139, 81.48295988]),\n",
       "  'q1': 0.8281911963046644,\n",
       "  'med': 3.650461454233603,\n",
       "  'q3': 17.450384201089527},\n",
       " {'label': 'B',\n",
       "  'mean': 17.25403999401318,\n",
       "  'iqr': 14.085576442443672,\n",
       "  'cilo': 2.345629991497901,\n",
       "  'cihi': 11.28663650582672,\n",
       "  'whishi': 27.883354468964463,\n",
       "  'whislo': 0.08552082164143499,\n",
       "  'fliers': array([ 81.26227485,  47.32268662, 110.6368477 ,  68.03596735,\n",
       "          75.46868899,  46.2624573 ]),\n",
       "  'q1': 1.753046589351794,\n",
       "  'med': 5.880468060011148,\n",
       "  'q3': 15.838623031795466},\n",
       " {'label': 'C',\n",
       "  'mean': 13.934720454994157,\n",
       "  'iqr': 9.829211903232906,\n",
       "  'cilo': 2.8107051716282943,\n",
       "  'cihi': 10.099500187797146,\n",
       "  'whishi': 25.375049301952266,\n",
       "  'whislo': 0.3669583459162874,\n",
       "  'fliers': array([ 29.55635955, 116.18734707,  52.02282649,  94.4372506 ,\n",
       "          38.72590661]),\n",
       "  'q1': 1.928220085314162,\n",
       "  'med': 4.3529259908737865,\n",
       "  'q3': 11.757431988547069},\n",
       " {'label': 'D',\n",
       "  'mean': 14.81961807041996,\n",
       "  'iqr': 11.91234761664237,\n",
       "  'cilo': 2.571425153940698,\n",
       "  'cihi': 7.74669448785265,\n",
       "  'whishi': 27.140011460742926,\n",
       "  'whislo': 0.24865034536672617,\n",
       "  'fliers': array([ 92.21622895,  52.06882424, 175.3797675 ]),\n",
       "  'q1': 1.7236405023457564,\n",
       "  'med': 4.605878938396548,\n",
       "  'q3': 13.635988118988125}]"
      ]
     },
     "execution_count": 14,
     "metadata": {},
     "output_type": "execute_result"
    }
   ],
   "source": [
    "stats"
   ]
  },
  {
   "cell_type": "code",
   "execution_count": 22,
   "metadata": {},
   "outputs": [
    {
     "data": {
      "image/png": "[encoded data removed]",
      "text/plain": [
       "<Figure size 432x432 with 1 Axes>"
      ]
     },
     "metadata": {},
     "output_type": "display_data"
    }
   ],
   "source": [
    "fs = 10\n",
    "\n",
    "boxprops = dict(linestyle='--', linewidth=3, color='darkgoldenrod')\n",
    "flierprops = dict(marker='o', markerfacecolor='green', markersize=12,\n",
    "                  linestyle='none')\n",
    "medianprops = dict(linestyle='-.', linewidth=2.5, color='firebrick')\n",
    "meanpointprops = dict(marker='D', markeredgecolor='black',\n",
    "                      markerfacecolor='firebrick')\n",
    "meanlineprops = dict(linestyle='--', linewidth=2.5, color='purple')\n",
    "\n",
    "fig, axes = plt.subplots(nrows=1, ncols=1, figsize=(6, 6), sharey=True)\n",
    "\n",
    "axes.bxp(stats, meanprops=meanlineprops, meanline=True,\n",
    "               showmeans=True)\n",
    "axes.set_title('Custom mean\\nas line', fontsize=fs)\n",
    "\n",
    "\n",
    "axes.set_yscale('log')\n",
    "axes.set_yticklabels([])\n",
    "\n",
    "fig.suptitle(\"I never said they'd be pretty\")\n",
    "fig.subplots_adjust(hspace=0.4)\n",
    "plt.show()"
   ]
  },
  {
   "cell_type": "code",
   "execution_count": 26,
   "metadata": {},
   "outputs": [],
   "source": [
    "stats = [{'label': 'A',\n",
    "  'mean': 4.0,\n",
    "  'iqr': 16.0,\n",
    "  'cilo': 1.0,\n",
    "  'cihi': 19.0,\n",
    "  'whishi': 19.0,\n",
    "  'whislo': 1.0,\n",
    "  'fliers': [],\n",
    "  'q1': 3.0,\n",
    "  'med': 4.0,\n",
    "  'q3': 19.0},\n",
    " {'label': 'B',\n",
    "  'mean': 4.0,\n",
    "  'iqr': 13.0,\n",
    "  'cilo': 1.411047419553718,\n",
    "  'cihi': 14.255678889631325,\n",
    "  'whishi': 19.0,\n",
    "  'whislo': 1.0,\n",
    "  'fliers': [],\n",
    "  'q1': 3.0,\n",
    "  'med': 4.0,\n",
    "  'q3': 19.0},]"
   ]
  },
  {
   "cell_type": "code",
   "execution_count": 27,
   "metadata": {},
   "outputs": [
    {
     "data": {
      "image/png": "[encoded data removed]",
      "text/plain": [
       "<Figure size 432x432 with 1 Axes>"
      ]
     },
     "metadata": {},
     "output_type": "display_data"
    }
   ],
   "source": [
    "fs = 10\n",
    "\n",
    "boxprops = dict(linestyle='--', linewidth=3, color='darkgoldenrod')\n",
    "flierprops = dict(marker='o', markerfacecolor='green', markersize=12,\n",
    "                  linestyle='none')\n",
    "medianprops = dict(linestyle='-.', linewidth=2.5, color='firebrick')\n",
    "meanpointprops = dict(marker='D', markeredgecolor='black',\n",
    "                      markerfacecolor='firebrick')\n",
    "meanlineprops = dict(linestyle='--', linewidth=2.5, color='purple')\n",
    "\n",
    "fig, axes = plt.subplots(nrows=1, ncols=1, figsize=(6, 6), sharey=True)\n",
    "\n",
    "axes.bxp(stats, meanprops=meanlineprops, meanline=True,\n",
    "               showmeans=True)\n",
    "axes.set_title('Custom mean\\nas line', fontsize=fs)\n",
    "\n",
    "\n",
    "#axes.set_yscale('log')\n",
    "axes.set_yticklabels([])\n",
    "\n",
    "fig.suptitle(\"I never said they'd be pretty\")\n",
    "fig.subplots_adjust(hspace=0.4)\n",
    "plt.show()"
   ]
  },
  {
   "cell_type": "code",
   "execution_count": null,
   "metadata": {},
   "outputs": [],
   "source": []
  }
 ],
 "metadata": {
  "kernelspec": {
   "display_name": "Python 3",
   "language": "python",
   "name": "python3"
  },
  "language_info": {
   "codemirror_mode": {
    "name": "ipython",
    "version": 3
   },
   "file_extension": ".py",
   "mimetype": "text/x-python",
   "name": "python",
   "nbconvert_exporter": "python",
   "pygments_lexer": "ipython3",
   "version": "3.7.6"
  }
 },
 "nbformat": 4,
 "nbformat_minor": 4
}
